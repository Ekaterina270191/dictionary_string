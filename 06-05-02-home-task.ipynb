{
 "cells": [
  {
   "cell_type": "markdown",
   "id": "2afc50fc",
   "metadata": {
    "pycharm": {
     "name": "#%% md\n"
    }
   },
   "source": [
    "## Задача 2"
   ]
  },
  {
   "cell_type": "markdown",
   "id": "4e6f18f9",
   "metadata": {
    "pycharm": {
     "name": "#%% md\n"
    }
   },
   "source": [
    "> Создайте свою библиотеку, в которой будет находится 3 под-библиотеки с решением задач 1, 2 и 3 из `05-04-home-task.ipynb`.  \n",
    "  \n",
    "> Начните писать библиотеку на GitHub. Когда она будет готова, примените команду `git clone` и разместите её на локальной машине.  \n",
    "  \n",
    "> Создайте по одному примеру вычисления, когда пользователь вводит с клавиатуры текстовые предложения для обработки. Сделайте подсказки для пользователя: условия задачи и что нужно ввести.  "
   ]
  },
  {
   "cell_type": "code",
   "execution_count": null,
   "id": "3bc3cac0",
   "metadata": {
    "pycharm": {
     "name": "#%%\n"
    }
   },
   "outputs": [],
   "source": [
    "# Файловая структура проекта:\n",
    "\n",
    "\"\"\"\n",
    "\n",
    "libraryName\n",
    "  | \n",
    "  |_taskName1\n",
    "        |_ __init__.py\n",
    "        |_ code.py\n",
    "  | \n",
    "  |_taskName2\n",
    "        |_ __init__.py\n",
    "        |_ code.py\n",
    "  |\n",
    "  |_taskName3\n",
    "        |_ __init__.py\n",
    "        |_ code.py\n",
    "  |\n",
    "  |_ __init__.py\n",
    "\n",
    "\"\"\""
   ]
  },
  {
   "cell_type": "code",
   "execution_count": 22,
   "id": "2f88eb35",
   "metadata": {
    "pycharm": {
     "name": "#%%\n"
    }
   },
   "outputs": [
    {
     "name": "stdout",
     "output_type": "stream",
     "text": [
      "Collecting package metadata (current_repodata.json): ...working... done\n",
      "Solving environment: ...working... done\n",
      "\n",
      "# All requested packages already installed.\n",
      "\n"
     ]
    }
   ],
   "source": [
    "!conda install -c anaconda git -y"
   ]
  },
  {
   "cell_type": "code",
   "execution_count": 88,
   "id": "7b44a5e6",
   "metadata": {
    "pycharm": {
     "name": "#%%\n"
    }
   },
   "outputs": [
    {
     "name": "stderr",
     "output_type": "stream",
     "text": [
      "Cloning into 'dictionary_string'...\n"
     ]
    }
   ],
   "source": [
    "!git clone https://github.com/Ekaterina270191/dictionary_string.git"
   ]
  },
  {
   "cell_type": "code",
   "execution_count": 83,
   "id": "446e203c",
   "metadata": {
    "scrolled": true,
    "pycharm": {
     "name": "#%%\n"
    }
   },
   "outputs": [
    {
     "name": "stderr",
     "output_type": "stream",
     "text": [
      "fatal: not a git repository (or any of the parent directories): .git\n"
     ]
    }
   ],
   "source": [
    "!git pull #принять изменения"
   ]
  },
  {
   "cell_type": "code",
   "execution_count": 84,
   "id": "dc717a8f",
   "metadata": {
    "pycharm": {
     "name": "#%%\n"
    }
   },
   "outputs": [
    {
     "data": {
      "text/plain": [
       "['__all__',\n",
       " '__builtins__',\n",
       " '__cached__',\n",
       " '__doc__',\n",
       " '__file__',\n",
       " '__loader__',\n",
       " '__name__',\n",
       " '__package__',\n",
       " '__path__',\n",
       " '__spec__',\n",
       " 'count_occurrences',\n",
       " 'find_index',\n",
       " 'find_index_previous_word',\n",
       " 'most_often',\n",
       " 'most_often_word']"
      ]
     },
     "execution_count": 84,
     "metadata": {},
     "output_type": "execute_result"
    }
   ],
   "source": [
    "import dictionary_string # проверка какие в библиотеки есть модули:\n",
    "dir(dictionary_string)"
   ]
  },
  {
   "cell_type": "code",
   "execution_count": 85,
   "id": "af2ef78c",
   "metadata": {
    "pycharm": {
     "name": "#%%\n"
    }
   },
   "outputs": [],
   "source": [
    "# вызываем основную библиотеку dictionary_string импортируя под-библиотек: most_often_word, count_occurrences, find_index_previous_word\n",
    "\n",
    "from dictionary_string import find_index_previous_word, count_occurrences, most_often_word "
   ]
  },
  {
   "cell_type": "code",
   "execution_count": 128,
   "id": "a64f42bc",
   "metadata": {
    "pycharm": {
     "name": "#%%\n"
    }
   },
   "outputs": [],
   "source": [
    "def func_1():\n",
    "    print('Введите предложения для подсчета кол-во вхождений слова в строке')\n",
    "    print('Либо поумолчанию(пример): \"one two one tho three\" = 0 0 1 0 0')\n",
    "    world = input()\n",
    "    if world != '':\n",
    "        return count_occurrences(world)\n",
    "    else:\n",
    "        return count_occurrences()\n",
    "    print()"
   ]
  },
  {
   "cell_type": "code",
   "execution_count": 143,
   "id": "6bff6759",
   "metadata": {
    "pycharm": {
     "name": "#%%\n"
    }
   },
   "outputs": [
    {
     "name": "stdout",
     "output_type": "stream",
     "text": [
      "Введите предложения чтобы вывести индекс предыдущего слова в строке\n",
      "Либо поумолчанию(пример): \"one two one tho three\" = -1 -1 0 -1 -1\n",
      "aba aba; aba @?\n",
      "-1 -1 0 -1\n"
     ]
    }
   ],
   "source": [
    "def func_2():\n",
    "    print('Введите предложения чтобы вывести индекс предыдущего слова в строке')\n",
    "    print('Либо поумолчанию(пример): \"one two one tho three\" = -1 -1 0 -1 -1')\n",
    "    world = input()\n",
    "    if world != '':\n",
    "        return find_index_previous_word(world)\n",
    "    else:\n",
    "        return find_index_previous_word()\n",
    "    print()"
   ]
  },
  {
   "cell_type": "code",
   "execution_count": 130,
   "id": "cb1efe19",
   "metadata": {
    "pycharm": {
     "name": "#%%\n"
    }
   },
   "outputs": [],
   "source": [
    "def func_3():\n",
    "    print('Введите предложение, чтобы вывести какое слово встречаеться чаще всего в предложения')\n",
    "    print('Либо поумолчанию(пример): \"apple orange banana banana orange\" = banana')\n",
    "    world = input()\n",
    "    if world != '':\n",
    "        return most_often_word(world)\n",
    "    else:\n",
    "        return most_often_word()\n",
    "    print()"
   ]
  },
  {
   "cell_type": "code",
   "execution_count": 148,
   "id": "e57f7f94",
   "metadata": {
    "pycharm": {
     "name": "#%%\n"
    }
   },
   "outputs": [
    {
     "name": "stdout",
     "output_type": "stream",
     "text": [
      "Варианты: \n",
      "            1 - посчитать кол-во вхождений слова в строке (count_occurrences())\n",
      "            2 - найти индекс предыдущего слова в строке (find_index_previous_word())\n",
      "            3 - какое слово встречаеться чаще всего в предложения(most_often_word())\n",
      "            4 - Выход\n",
      "\n",
      "Выберите один из вариантов 1, 2, 3, 4: 3\n",
      "\n",
      "Введите предложение, чтобы вывести какое слово встречаеться чаще всего в предложения\n",
      "Либо поумолчанию(пример): \"apple orange banana banana orange\" = banana\n",
      "aba aba; aba @?\"\n",
      "aba\n",
      "\n",
      "Варианты: \n",
      "            1 - посчитать кол-во вхождений слова в строке (count_occurrences())\n",
      "            2 - найти индекс предыдущего слова в строке (find_index_previous_word())\n",
      "            3 - какое слово встречаеться чаще всего в предложения(most_often_word())\n",
      "            4 - Выход\n",
      "\n",
      "Выберите один из вариантов 1, 2, 3, 4: 4\n",
      "\n",
      "До новых встреч!\n"
     ]
    }
   ],
   "source": [
    "while True:\n",
    "    print(\"\"\"Варианты: \n",
    "            1 - посчитать кол-во вхождений слова в строке (count_occurrences())\n",
    "            2 - найти индекс предыдущего слова в строке (find_index_previous_word())\n",
    "            3 - какое слово встречаеться чаще всего в предложения(most_often_word())\n",
    "            4 - Выход\"\"\")\n",
    "    print()\n",
    "\n",
    "    choice = input('Выберите один из вариантов 1, 2, 3, 4: ')\n",
    "    print()\n",
    "    \n",
    "    if choice == '1':\n",
    "        print(func_1())\n",
    "        \n",
    "    elif choice == '2':\n",
    "        print(func_2())\n",
    "        \n",
    "    elif choice == '3':\n",
    "        print(func_3())\n",
    "        \n",
    "    elif choice == '4':\n",
    "        print('До новых встреч!')\n",
    "        break\n",
    "        \n",
    "    else:\n",
    "        print('Такого вариата нет, попробуйте еще раз!')\n",
    "    print()\n",
    "\n",
    "# Примеры:\n",
    "# input_line = \"She sells sea shells on the sea shore; The shells that she sells are sea shells I'm sure. So if she sells sea shells on the sea shore, I'm sure that the shells are sea shore shells.\"\n",
    "# input_line = 'aba aba; aba @?\"'\n",
    "# input_line = \"a s d f g h j k l\""
   ]
  },
  {
   "cell_type": "code",
   "execution_count": null,
   "id": "a9e38d15",
   "metadata": {
    "pycharm": {
     "name": "#%%\n"
    }
   },
   "outputs": [],
   "source": [
    "# dictionary_string:\n",
    "\n",
    "# 1)\n",
    "# __init__.py\n",
    "# from .code import find_index_previous_word\n",
    "\n",
    "# code.py\n",
    "# find_index_previous_word\n",
    "\n",
    "\n",
    "# Решение на letcode:\n",
    "\n",
    "# input_line = \"one two one tho three\"\n",
    "\n",
    "# def find_index_previous_word(string=input_line):\n",
    "    \n",
    "#     # Разделяем входное предложение на отдельные слова и итерируем каждое слово\n",
    "#     result = string.split() # ['one', 'two', 'one', 'tho', 'three']\n",
    "    \n",
    "#     # Подготавливаем список для сбора слов по отдельности\n",
    "#     result_intermediate = []\n",
    "\n",
    "#     # Подготавливаем список для сбора индексов\n",
    "#     result_final = []\n",
    "    \n",
    "#     # Итерируем результирующий список со словами\n",
    "#     for element in result:\n",
    "\n",
    "#         # Делаем проверку, если не встретилось до\n",
    "#         if result_intermediate.count(element) == 0:\n",
    "#             # Добавляем результат\n",
    "#             result_final.append(-1) # [-1, -1, 0, -1, -1]\n",
    "            \n",
    "#         # Делаем проверку, если встретилось до\n",
    "#         else:\n",
    "#             # Находим индекс\n",
    "#             indices = [i for i, x in enumerate(result) if x == element] # [0, 2]\n",
    "#             index = indices[result_intermediate.count(element) - 1]\n",
    "            \n",
    "#             # Добавляем результат\n",
    "#             result_final.append(index) # [-1, -1, 0, -1, -1]\n",
    "\n",
    "#         result_intermediate.append(element) # ['one', 'two', 'one', 'tho', 'three']\n",
    "\n",
    "#     # Выводим финальный результат\n",
    "#     return ' '.join(list(map(str, result_final)))\n"
   ]
  },
  {
   "cell_type": "code",
   "execution_count": 150,
   "id": "fbe13eb2",
   "metadata": {
    "pycharm": {
     "name": "#%%\n"
    }
   },
   "outputs": [],
   "source": [
    "# dictionary_string:\n",
    "\n",
    "# 2)\n",
    "# __init__.py\n",
    "# from .code import most_often_word\n",
    "\n",
    "# code.py\n",
    "# most_often_word\n",
    "\n",
    "\n",
    "# Решение на letcode:\n",
    "\n",
    "# input_line = \"apple orange banana banana orange\"                                        \n",
    "\n",
    "# def most_often_word(string=input_line):\n",
    "#     dict_total = {}\n",
    "    \n",
    "#     for simvol in string.split():\n",
    "        \n",
    "#         if simvol not in dict_total:\n",
    "#             dict_total[simvol] = 1\n",
    "#         else:\n",
    "#             dict_total[simvol] += 1\n",
    "                \n",
    "#     return sorted([k for k, v in  dict_total.items() if v == max(dict_total.values())])[0] # Вывод одного ключа с максималльным значением - banana\n",
    "#                                                                                            # если несколько ключей надо вывести, то убираем [0]  "
   ]
  },
  {
   "cell_type": "code",
   "execution_count": 149,
   "id": "1396f18f",
   "metadata": {
    "pycharm": {
     "name": "#%%\n"
    }
   },
   "outputs": [],
   "source": [
    "# dictionary_string:\n",
    "\n",
    "# 3)\n",
    "# __init__.py\n",
    "# from .code import count_occurrences\n",
    "\n",
    "# code.py\n",
    "# count_occurrences\n",
    "\n",
    "\n",
    "# Решение на letcode:\n",
    "\n",
    "# input_line = \"one two one tho three\"  \n",
    "\n",
    "# def count_occurrences(string=input_line):\n",
    "    \n",
    "#     my_dict = {}\n",
    "#     lst = []\n",
    "\n",
    "#     for word in string.split():\n",
    "#         if word not in my_dict:\n",
    "#             my_dict[word] = 0 \n",
    "#         else: \n",
    "#             my_dict[word] += 1\n",
    "\n",
    "#         lst.append(my_dict[word])\n",
    "        \n",
    "#     return ' '.join(list(map(str, lst))) "
   ]
  },
  {
   "cell_type": "code",
   "execution_count": null,
   "id": "768da78f",
   "metadata": {
    "pycharm": {
     "name": "#%%\n"
    }
   },
   "outputs": [],
   "source": [
    "# dictionary_string:\n",
    "# __init__.py\n",
    "\n",
    "# from .count import count_occurrences\n",
    "# from .find_index import find_index_previous_word\n",
    "# from .most_often import most_often_word\n",
    "\n",
    "# __all__= ('count_occurrences', 'find_index_previous_word', 'most_often_word') "
   ]
  }
 ],
 "metadata": {
  "kernelspec": {
   "display_name": "Python 3 (ipykernel)",
   "language": "python",
   "name": "python3"
  },
  "language_info": {
   "codemirror_mode": {
    "name": "ipython",
    "version": 3
   },
   "file_extension": ".py",
   "mimetype": "text/x-python",
   "name": "python",
   "nbconvert_exporter": "python",
   "pygments_lexer": "ipython3",
   "version": "3.9.7"
  }
 },
 "nbformat": 4,
 "nbformat_minor": 5
}